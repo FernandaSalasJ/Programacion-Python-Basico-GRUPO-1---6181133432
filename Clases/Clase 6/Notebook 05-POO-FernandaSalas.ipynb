{
 "cells": [
  {
   "cell_type": "markdown",
   "metadata": {},
   "source": [
    "# 📌 Programación Orientada a Objetos(POO) en Python\n",
    "## Autor: Fernanda Salas Jara\n",
    "## Fecha: 06/02/2025\n",
    "\n",
    "## 1. Introducción a la POO \n",
    "- ¿Qué es la POO? \n",
    "- Características principales \n",
    "- Comparación con la programación estructurada \n",
    "  \n",
    "## 2. Conceptos Claves de la POO \n",
    "- Clases y Objetos \n",
    "- Atributos y Métodos \n",
    "- Encapsulamiento \n",
    "- Herencia \n",
    "- Polimorfismo \n",
    "  \n",
    "## 3. Ejemplos Prácticos de cada Concepto \n",
    "- Definir una clase simple \n",
    "- Crear y manipular objetos \n",
    "- Aplicar herencia y polimorfismo \n",
    "  \n",
    "## 4. Desarrollo de un Proyecto Aplicado \n",
    "- Descripción del proyecto \n",
    "- Implementación paso a paso \n",
    "  \n",
    "--- \n",
    "  \n",
    "## 🟢 1. Introducción a la POO \n",
    "La **Programación Orientada a Objetos (POO)** es un paradigma de programación basado en la idea de modelar entidades del mundo real a través de **objetos**. \n",
    "  \n",
    "### ✅ Características clave de la POO: \n",
    "- **Abstracción:** Modela objetos del mundo real en código. \n",
    "- **Encapsulamiento:** Protege los datos y métodos dentro de una clase. \n",
    "- **Herencia:** Permite reutilizar código mediante la relación padre-hijo. \n",
    "- **Polimorfismo:** Usa el mismo método con diferentes implementaciones. \n",
    "  \n",
    "### 📌 Diferencia entre programación estructurada y POO: \n",
    "  \n",
    "| Característica       | Programación Estructurada | Programación Orientada a Objetos | \n",
    "|---------------------|------------------------|--------------------------------| \n",
    "| **Organización**   | Basada en funciones    | Basada en clases y objetos    | \n",
    "| **Reutilización**  | Baja                   | Alta                          | \n",
    "| **Mantenimiento**  | Más complejo           | Más modular y escalable      | \n",
    "\n",
    "## 🟡 2. Conceptos Claves de la POO en Python\n",
    "## 📌 Clases y Objetos\n",
    "En Python, una clase es un **modelo** que define la estructura y comportamiento de un objeto. Un objeto es una instancia de una clase.\n"
   ]
  },
  {
   "cell_type": "code",
   "execution_count": 1,
   "metadata": {},
   "outputs": [
    {
     "name": "stdout",
     "output_type": "stream",
     "text": [
      "El objeto 1765151096320 tiene el atributo nombre como Emmanuel Alfaro\n",
      "El objeto 1765150827024 tiene el atributo nombre como Andres Mena\n"
     ]
    }
   ],
   "source": [
    "#como crear una clase\n",
    "class Persona:\n",
    "   def __init__(self, name, age): #si quiero poner mas de un objeto #es una funcion para construir un objeto, \n",
    "      self.nombre = name\n",
    "      self.edad = age\n",
    "      \n",
    "estudiante = Persona('Emmanuel Alfaro', 28)\n",
    "#para hacer como un ciclo:\n",
    "estudiante2 = Persona('Mariana Villalobos', 25)\n",
    "profesor = Persona('Andres Mena', 33)\n",
    "\n",
    "#Persona es la clase\n",
    "#Estudiante es objeto\n",
    "#nombre y edad son atributos\n",
    "#a un objeto le puedo poner metodos a partir de funciones para que hagan alguna accion\n",
    "\n",
    "print(f'El objeto {id(estudiante)} tiene el atributo nombre como {estudiante.nombre}')\n",
    "print(f'El objeto {id(profesor)} tiene el atributo nombre como {profesor.nombre}')\n",
    "\n",
    "#el print tira:\n",
    "#El objeto 2271612011248 tiene el atributo nombre como Emmanuel Alfaro      #este numero que tira, es un id de memoria\n",
    "#El objeto 2271609759504 tiene el atributo nombre como Andres Mena          #este numero que tira, es un id de memoria y cada uno es distinto"
   ]
  },
  {
   "cell_type": "code",
   "execution_count": null,
   "metadata": {},
   "outputs": [],
   "source": [
    "#como crear una clase forma #2\n",
    "class Persona:\n",
    "   def __init__(self):\n",
    "       self.nombre = input('Ingrese su nombre Por favor: ')\n",
    "       self.edad = input('Ingrese su edad Por favor: ')\n",
    "      \n",
    "estudiante = Persona()\n",
    "estudiante2 = Persona()\n",
    "profesor = Persona()\n",
    "\n",
    "print(f'El objeto {id(estudiante)} tiene el atributo nombre como {estudiante.nombre}')\n",
    "print(f'El objeto {id(profesor)} tiene el atributo nombre como {profesor.nombre}')"
   ]
  },
  {
   "cell_type": "code",
   "execution_count": null,
   "metadata": {},
   "outputs": [],
   "source": [
    "#Como crear una clase\n",
    "class Persona:\n",
    "    def __init__(self,nombre,age):\n",
    "        self.nombre = nombre\n",
    "        self.edad = age\n",
    "        self.activo = True\n",
    "        self.materias = []  #se puede crear una lista\n",
    "\n",
    "    def saludar(self): #Método\n",
    "        if self.activo:\n",
    "            print(f'Hola, mi nombre es {self.nombre} y tengo {self.edad} años')\n",
    "        else:\n",
    "            print(f'Este objeto {self.nombre}  no puede saludar, porque esta declarado como Inactivo')\n",
    "    def imprimir_materias(self):\n",
    "        print(*self.materias) \n",
    "    \n",
    "estudiante = Persona('Emmanuel Alfaro',28)\n",
    "estudiante2 = Persona('Mariana Villalobos', 25)\n",
    "profesor = Persona('Andrés Mena',33)\n",
    "\n",
    "\n",
    "print (f'El objetos {id(estudiante)} tiene el atributo nombre como {estudiante.nombre}')\n",
    "print (f'El objetos {id(estudiante2)} tiene el atributo nombre como {estudiante2.nombre}')\n",
    "print (f'El objetos {id(profesor)} tiene el atributo nombre como {profesor.nombre}')\n",
    "\n",
    "\n",
    "#Llamada a un método de la clase\n",
    "estudiante.saludar()\n",
    "estudiante.materias = ['Matematicas','Historia','Biologia']  #este tiene una lista, hay que crearle una a cada estudiante\n",
    "estudiante.imprimir_materias()\n",
    "\n",
    "profesor.activo = False\n",
    "profesor.imprimir_materias() #saldra vacio porque no tiene nada asignado\n",
    "profesor.saludar()"
   ]
  },
  {
   "cell_type": "markdown",
   "metadata": {},
   "source": [
    "# 📌 Atributos y Métodos\n",
    "### Los atributos representan las propiedades de un objeto, y los métodos son las funciones que definen su comportamiento."
   ]
  },
  {
   "cell_type": "code",
   "execution_count": 9,
   "metadata": {},
   "outputs": [
    {
     "name": "stdout",
     "output_type": "stream",
     "text": [
      "<__main__.carro object at 0x00000210E6A0A7B0>\n",
      "Mitsubichi Lancer\n",
      "<__main__.carro object at 0x00000210E6B41090>\n"
     ]
    },
    {
     "ename": "TypeError",
     "evalue": "carro.reporte_estado() takes 0 positional arguments but 1 was given",
     "output_type": "error",
     "traceback": [
      "\u001b[1;31m---------------------------------------------------------------------------\u001b[0m",
      "\u001b[1;31mTypeError\u001b[0m                                 Traceback (most recent call last)",
      "Cell \u001b[1;32mIn[9], line 32\u001b[0m\n\u001b[0;32m     28\u001b[0m \u001b[38;5;28mprint\u001b[39m(mi_carro_trabajo)\n\u001b[0;32m     31\u001b[0m mi_carro\u001b[38;5;241m.\u001b[39mreporte_fallas()\n\u001b[1;32m---> 32\u001b[0m \u001b[43mmi_carro\u001b[49m\u001b[38;5;241;43m.\u001b[39;49m\u001b[43mreporte_estado\u001b[49m\u001b[43m(\u001b[49m\u001b[43m)\u001b[49m\n\u001b[0;32m     34\u001b[0m mi_carro_trabajo\u001b[38;5;241m.\u001b[39mreporte_estado()\n",
      "\u001b[1;31mTypeError\u001b[0m: carro.reporte_estado() takes 0 positional arguments but 1 was given"
     ]
    }
   ],
   "source": [
    "#Crear una clase\n",
    "\n",
    "class carro:\n",
    "    def __init__(self, num_matricula, modelo, marca ): #es un constructor el init\n",
    "        self.matricula = num_matricula #atributo dinamico\n",
    "        self.modelo = modelo #atributo dinamico\n",
    "        self.marca = marca #atributo dinamico\n",
    "        self.encendido = True #atributo estatico\n",
    "        self.fallas = []\n",
    "    \n",
    "       \n",
    "        #un metodo para reportar fallas\n",
    "    def reporte_fallas(self):\n",
    "        self.fallas.append(input(\"ingrese el detalle del reporte de la falla: \"))\n",
    "    \n",
    "    def reporte_estado(self):\n",
    "        print(f'el carro matricula {self.matricula}, marca {self.marca}')\n",
    "        print('---- Reporte de Fallas----')\n",
    "        for elemento in self.fallas:\n",
    "            print(f'elemento')\n",
    "    \n",
    "    \n",
    "mi_carro = carro('123ASD', '2017', 'Mitsubichi Lancer')\n",
    "mi_carro_trabajo = carro('345JKL', '2025', 'Toyota Hilux')\n",
    "\n",
    "\n",
    "mi_carro.reporte_fallas()\n",
    "mi_carro.reporte_estado()\n",
    "\n",
    "print(mi_carro) #esto imprime el objeto no el valor\n",
    "print(mi_carro.marca)\n",
    "print(mi_carro_trabajo)\n",
    "\n",
    "\n",
    "\n",
    "\n",
    "mi_carro_trabajo.reporte_estado()"
   ]
  },
  {
   "cell_type": "markdown",
   "metadata": {},
   "source": [
    "# 📝 Ejercicios POO en Python  \n",
    "\n",
    "\n",
    "## 📌 Ejercicio 1: Calculadora de Descuento  \n",
    "📍 **Objetivo:** Crear una clase que calcule el precio final de un producto aplicando un descuento.  \n",
    "\n",
    "\n",
    "### 🔹 **Instrucciones:**  \n",
    "1. Crear una clase llamada `Producto` con los siguientes atributos:  \n",
    "   - `nombre` (nombre del producto)  \n",
    "   - `precio` (precio original del producto)  \n",
    "   - `descuento` (porcentaje de descuento en decimal, por ejemplo, 0.2 para 20%)  \n",
    "2. Implementar un método llamado `precio_final()` que retorne el precio con el descuento aplicado.  \n",
    "3. Crear un objeto de la clase con un producto de tu elección y mostrar el precio final.  \n",
    "\n",
    "\n",
    "### 🔹 **Ejemplo de uso esperado:**  \n",
    "```python\n",
    "mi_producto = Producto(\"Zapatos\", 50.0, 0.15) \n",
    "print(f\"El precio final de {mi_producto.nombre} es: ${mi_producto.precio_final()}\")\n",
    "\n"
   ]
  },
  {
   "cell_type": "code",
   "execution_count": 16,
   "metadata": {},
   "outputs": [
    {
     "name": "stdout",
     "output_type": "stream",
     "text": [
      "El precio final de Zapatos es: $42.5\n"
     ]
    }
   ],
   "source": [
    "#Creando clase\n",
    "class Producto:\n",
    "    def __init__(self, name, price, desc):\n",
    "        self.nombre = name\n",
    "        self.precio = price\n",
    "        self.descuento = desc\n",
    "\n",
    "    def precio_final(self):\n",
    "        return self.precio * (1 - self.descuento)\n",
    "\n",
    "mi_producto = Producto('Zapatos', 50, 0.15)\n",
    "print(f\"El precio final de {mi_producto.nombre} es: ${mi_producto.precio_final()}\")\n",
    "        \n",
    "        "
   ]
  },
  {
   "cell_type": "markdown",
   "metadata": {},
   "source": [
    "## 📌 Ejercicio 2: Registro de Estudiantes  \n",
    "📍 **Objetivo:** Crear una clase para almacenar información de estudiantes y mostrar sus datos.  \n",
    "\n",
    "\n",
    "### 🔹 Instrucciones:  \n",
    "\n",
    "\n",
    "1. Crear una clase llamada `Estudiante` con los siguientes atributos:  \n",
    "   - `nombre`  \n",
    "   - `edad`  \n",
    "   - `grado`  \n",
    "\n",
    "\n",
    "2. Implementar un método llamado `mostrar_info()` que imprima la información del estudiante en un formato legible.  \n",
    "\n",
    "\n",
    "3. Crear **dos instancias** de la clase `Estudiante` y llamar al método `mostrar_info()` en cada una.  "
   ]
  },
  {
   "cell_type": "code",
   "execution_count": null,
   "metadata": {},
   "outputs": [],
   "source": [
    "#Creando clase\n",
    "\n",
    "class Estudiante:\n",
    "    def __init__(self, nombre, edad, grado):\n",
    "        self.nombre = nombre\n",
    "        self.edad = edad\n",
    "        self.grado = grado\n",
    "    \n",
    "    def mostrar_info(self):\n",
    "        "
   ]
  },
  {
   "cell_type": "markdown",
   "metadata": {},
   "source": [
    "### 📌 Encapsulamiento\n",
    "El encapsulamiento oculta detalles internos de un objeto para restringir el acceso a sus atributos.\n",
    "\n",
    "\n",
    "\n",
    "🔒 __saldo es un atributo privado, solo accesible desde métodos de la misma clase."
   ]
  },
  {
   "cell_type": "code",
   "execution_count": 24,
   "metadata": {},
   "outputs": [
    {
     "name": "stdout",
     "output_type": "stream",
     "text": [
      "El saldo de Andrés en la cuenta es: $550\n"
     ]
    }
   ],
   "source": [
    "class CuentaBancaria:\n",
    "    def __init__(self, titular, saldo):\n",
    "        self.titular = titular\n",
    "        self.__saldo = saldo  # Atributo privado el doble guion bajo hace que sea restrictiva self.__saldo = saldo\n",
    "    \n",
    "    def mostra_saldo(self):\n",
    "        print(f'El saldo de {self.titular} en la cuenta es: ${cuenta_ahorros.__saldo}')\n",
    "    \n",
    "    def depositar(self, cantidad):\n",
    "        self.__saldo += cantidad\n",
    "\n",
    "cuenta_ahorros = CuentaBancaria('Kevin', 450)\n",
    "cuenta_ahorros.titular = 'Andrés' #Modificar atributo público\n",
    "cuenta_ahorros.depositar(100)\n",
    "cuenta_ahorros.mostra_saldo()\n",
    "\n",
    "#print(f'el saldo de la cuenta es: {cuenta_ahorros.__saldo}') \n",
    "#tira un error por el '.__saldo' porque ese atributo esta restringido, solo se puede modificar en la clase, por eso se crea un metodo para que ayude"
   ]
  },
  {
   "cell_type": "markdown",
   "metadata": {},
   "source": [
    "### 📌 Herencia\n",
    "La herencia permite que una clase hija herede atributos y métodos de una clase padre."
   ]
  },
  {
   "cell_type": "code",
   "execution_count": 26,
   "metadata": {},
   "outputs": [
    {
     "name": "stdout",
     "output_type": "stream",
     "text": [
      "pancho hace un sonido\n"
     ]
    }
   ],
   "source": [
    "class Animal:\n",
    "    def __init__(self, nombre):\n",
    "        self.nombre = nombre\n",
    "\n",
    "\n",
    "    def hacer_sonido(self):\n",
    "        return f\"{self.nombre} hace un sonido\"\n",
    "    \n",
    "class perro(Animal): #perro hereda la clase Animal\n",
    "    pass\n",
    "\n",
    "pancho = perro('pancho')\n",
    "\n",
    "print(pancho.hacer_sonido())\n",
    "\n",
    "#polimorfismo hace que yo pueda sobreescribir sobre una clase Padre\n",
    "#la herencia permite reutilizar codigo"
   ]
  },
  {
   "cell_type": "code",
   "execution_count": 27,
   "metadata": {},
   "outputs": [
    {
     "name": "stdout",
     "output_type": "stream",
     "text": [
      "Firulais : Firulais hace un sonido\n",
      "Michi : Michi Miau Miau\n"
     ]
    }
   ],
   "source": [
    "class gato(Animal):\n",
    "    def hacer_sonido(self):\n",
    "        return f'{self.nombre} Miau Miau'\n",
    "    \n",
    "animales = [perro('Firulais'), gato('Michi')]\n",
    "\n",
    "for animal in animales:\n",
    "    print(animal.nombre, ':', animal.hacer_sonido())"
   ]
  }
 ],
 "metadata": {
  "kernelspec": {
   "display_name": "Python 3",
   "language": "python",
   "name": "python3"
  },
  "language_info": {
   "codemirror_mode": {
    "name": "ipython",
    "version": 3
   },
   "file_extension": ".py",
   "mimetype": "text/x-python",
   "name": "python",
   "nbconvert_exporter": "python",
   "pygments_lexer": "ipython3",
   "version": "3.13.1"
  }
 },
 "nbformat": 4,
 "nbformat_minor": 2
}
