{
 "cells": [
  {
   "cell_type": "markdown",
   "metadata": {},
   "source": [
    "# Exploración Teórica y Aplicación Práctica de las Funciones en Python\n",
    "#### Autor: Fernanda Salas Jara\n",
    "\n",
    "\n",
    "## 1) Introducción\n",
    "El presente Notebook tiene por objetivo explorar la influencia de las funciones en el lenguaje Python para la modularizacion y eficiencia del desarrollo software.\n",
    "\n",
    "## 1.1) ¿Por qué es importante el uso de las funciones en Python?\n",
    "Se puede asumir que las funciones en Python facilitan dos grandes cosas: \n",
    "1. Dividir y organizar el código en partes más sencillas.\n",
    "2. Encapsular el código que se repite a lo largo de un programa para ser reutilizado.(1)\n",
    "\n",
    "\n",
    "## 2) Definición y Propósito de las Funciones en Python\n",
    "\n",
    "Las funciones en Python tienen la función de realizar una tarea específica y pueden ser invocadas en cualquier sección que se requiera. Su estructura contiene la siguiente forma, en orden descendente: (1)\n",
    "\n",
    "* def: Palabra clave reservada, inicia la definición de la función.(1)\n",
    "* nombre: Será el identificador para llamar o invocar a la función, importante colocarle paréntesis.(1)\n",
    "* (parámetros): Importante colocarlo con paréntesis, puede contener más de un elemento separado por una coma \",\" esto depende de la naturaleza de la función, recordar colocar dos puntos al final.(1)\n",
    "* Cuerpo de la función: Contiene sangría de alrededor de 4 espacios, seguido de un bloque de instrucciones que encapsulan la función.(1)\n",
    "* return (opcional): se añade para devolver un valor.(1)\n",
    "\n",
    "### A continuación se demuestra con un ejemplo:"
   ]
  },
  {
   "cell_type": "code",
   "execution_count": null,
   "metadata": {},
   "outputs": [
    {
     "name": "stdout",
     "output_type": "stream",
     "text": [
      "Comienzo del programa\n",
      "7 * 5 = 35\n",
      "Siguiente\n",
      "113 * 5 = 565\n",
      "Fin\n"
     ]
    }
   ],
   "source": [
    "# Ejemplo: (1)\n",
    "\n",
    "def multiplica_por_5(numero):\n",
    "    print(numero, \"* 5 =\", (numero * 5))\n",
    "\n",
    "print('Comienzo del programa')    \n",
    "multiplica_por_5(7)\n",
    "print('Siguiente')\n",
    "multiplica_por_5(113)\n",
    "print('Fin')"
   ]
  },
  {
   "cell_type": "markdown",
   "metadata": {},
   "source": [
    "### 2.1) Beneficios de modularizar código con funciones\n",
    "\n",
    "### Se pueden mencionar tres ventajas de la modularidad en Python (2):\n",
    "\n",
    "* Organizar el código: Cuando los programas son proyectos más grandes, se recurre a crear módulos, la modularización permite dividir el código en diferentes módulos, beneficiando la organización y facilitando la lectura del código para los desarolladores.\n",
    "* Ahorrar tiempo: Al modularizar, lo que hacemos es contener un conjunto de funciones relacionadas o una parte específica con la capacidad de poder acceder a ellas cuantas veces sea necesario en el mismo proyecto e incluso en otros, se hace una reutilización del código a conveniencia.\n",
    "* Colaboración en equipo: Usualmente los proyectos se trabajan con un equipo y modularizar permite que cada miembro pueda trabajar en sus módulos sin afectar los demás, de esta manera los objetivos no se ven frustrados por contratiempos en el uso del código.\n",
    "\n",
    "### 2.3) Importancia de la reutilización del código\n",
    "\n",
    "La modularidad es esencial en el desarrollo de proyectos en Python, ya que como se mencióno, se puede ver el código por secciones y esto facilita no solo la reutlización de código sino que se puede abarcar algún error desde su módulo o fuente y este automáticamente se corregirá en las partes donde ha sido invocado. El principio de \"encapsulamiento\" se refiere a cuando los módulos invocados omiten o no presentan ante el desarrollador todos los pasos necesarios para funcionar y simplemente se muestra lo que se necesita obtener de ellos para continuar con el código.(3)\n",
    "\n",
    "Para crear un sistema con muchas tareas, se debe de empezar por las partes pequeñas abarcando las tareas más sencillas y replicándolas las veces que sea necesario para crear otras más comlejas y así sucesivamente; para esto sirve la modularización.\n",
    "\n",
    "A continuación se ejemplifica un caso hipotético:"
   ]
  },
  {
   "cell_type": "code",
   "execution_count": null,
   "metadata": {},
   "outputs": [],
   "source": [
    "# Ejemplo (3):\n",
    "# Asumiendo que se creó un archivo llamado saludo.py, que contiene:\n",
    "def saludoEntidad (x):\n",
    "\tprint(\"Hola \" + x)\n",
    "\n",
    "# se crea un programa llamado usar-saludo.py \n",
    "# usaremos import para acceder al contenido del módulo de interés (saludo.py)\n",
    "import saludo\n",
    "saludo.saludoEntidad(\"todos\")  #se invoca a saludo.py, se le indica que busque la función saludo.Entidad\n",
    "saludo.saludoEntidad(\"programming historian\")"
   ]
  },
  {
   "cell_type": "markdown",
   "metadata": {},
   "source": [
    "## 2.4) Tipos de Funciones en Python:\n",
    "\n",
    "## 2.4.1) Funciones con y sin retorno:\n",
    "\n",
    "El retorno o return en Python fija el final de la función y da la instrucción del valor o los valores que debe devolver la función y los tipos de datos que se devuelven pueden ser int, float, string, listas, diccionarios y otras funciones. Cuando no se utiliza el return del todo o si se utiliza pero sin valor, Python devolverá la función con None de manera implícita. (4)\n",
    "\n",
    "* Con retorno: Devuelven un valor utilizando la palabra clave return."
   ]
  },
  {
   "cell_type": "code",
   "execution_count": null,
   "metadata": {},
   "outputs": [],
   "source": [
    "#Ejemplo(4):\n",
    "def calculate_area(length, width):\n",
    "\tarea = length * width\n",
    "\treturn area\n",
    "\n",
    "area = calculate_area(50, 50) # get the result of the function\n",
    "print(f\"Calculated area: {area}\") # use the result of the function"
   ]
  },
  {
   "cell_type": "markdown",
   "metadata": {},
   "source": [
    "* Sin retorno: No devuelven un valor explícito; por defecto, retornan None."
   ]
  },
  {
   "cell_type": "code",
   "execution_count": null,
   "metadata": {},
   "outputs": [],
   "source": [
    "#Ejemplo(4):\n",
    "def log_message(message):\n",
    "    print(message)\n",
    "    # No return statement needed; function returns None by default"
   ]
  },
  {
   "cell_type": "markdown",
   "metadata": {},
   "source": [
    "## 2.4.2.) Funciones con parámetros y valores predeterminados:\n"
   ]
  },
  {
   "cell_type": "code",
   "execution_count": null,
   "metadata": {},
   "outputs": [],
   "source": []
  },
  {
   "cell_type": "markdown",
   "metadata": {},
   "source": [
    "## 2.4.3.)Uso de *args y **kwargs:"
   ]
  },
  {
   "cell_type": "code",
   "execution_count": null,
   "metadata": {},
   "outputs": [],
   "source": []
  },
  {
   "cell_type": "code",
   "execution_count": null,
   "metadata": {},
   "outputs": [],
   "source": []
  },
  {
   "cell_type": "markdown",
   "metadata": {},
   "source": [
    "## 2.4.4.)Funciones anónimas (lambda):"
   ]
  },
  {
   "cell_type": "code",
   "execution_count": null,
   "metadata": {},
   "outputs": [],
   "source": []
  },
  {
   "cell_type": "markdown",
   "metadata": {},
   "source": [
    "## 2.4.5.) Funciones recursivas:"
   ]
  },
  {
   "cell_type": "code",
   "execution_count": null,
   "metadata": {},
   "outputs": [],
   "source": []
  },
  {
   "cell_type": "markdown",
   "metadata": {},
   "source": [
    "## 2.4.6.) Generadores (yield):"
   ]
  },
  {
   "cell_type": "code",
   "execution_count": null,
   "metadata": {},
   "outputs": [],
   "source": []
  },
  {
   "cell_type": "markdown",
   "metadata": {},
   "source": [
    "## 2.4.7.) Closures y decoradores."
   ]
  },
  {
   "cell_type": "code",
   "execution_count": null,
   "metadata": {},
   "outputs": [],
   "source": []
  },
  {
   "cell_type": "markdown",
   "metadata": {},
   "source": [
    "# 2.3 Aplicación de Funciones en Problemas Reales\n",
    "\n",
    "### Aplicación en estructuras de datos (listas, diccionarios):"
   ]
  },
  {
   "cell_type": "code",
   "execution_count": null,
   "metadata": {},
   "outputs": [],
   "source": []
  },
  {
   "cell_type": "markdown",
   "metadata": {},
   "source": [
    "### Uso de funciones en procesamiento de datos."
   ]
  },
  {
   "cell_type": "code",
   "execution_count": null,
   "metadata": {},
   "outputs": [],
   "source": []
  },
  {
   "cell_type": "markdown",
   "metadata": {},
   "source": [
    "### Optimización del rendimiento con funciones."
   ]
  },
  {
   "cell_type": "code",
   "execution_count": null,
   "metadata": {},
   "outputs": [],
   "source": []
  },
  {
   "cell_type": "markdown",
   "metadata": {},
   "source": [
    "### Comparación entre funciones definidas por el usuario y funciones integradas (len(), sum(), etc.)."
   ]
  },
  {
   "cell_type": "code",
   "execution_count": null,
   "metadata": {},
   "outputs": [],
   "source": []
  },
  {
   "cell_type": "markdown",
   "metadata": {},
   "source": [
    "# 3) Conclusiones"
   ]
  },
  {
   "cell_type": "markdown",
   "metadata": {},
   "source": [
    "## Bibliografía\n",
    "\n",
    "(1) https://aulavirtual.espol.edu.ec/courses/4558/pages/funciones-en-python#:~:text=Python%20ya%20define%20de%20serie,de%20l%C3%ADneas%20de%20un%20programa.&text=En%20principio%2C%20un%20programa%20es,definir%20una%20funci%C3%B3n%20en%20Python.\n",
    "(2) https://keepcoding.io/blog/modularidad-en-python/#Ventajas_de_la_modularidad_en_Python\n",
    "(3) https://programminghistorian.org/es/lecciones/reutilizacion-de-codigo-y-modularidad\n",
    "(4) https://mimo-org.translate.goog/glossary/python/return?_x_tr_sl=en&_x_tr_tl=es&_x_tr_hl=es&_x_tr_pto=sge&_x_tr_hist=true\n"
   ]
  }
 ],
 "metadata": {
  "kernelspec": {
   "display_name": "Python 3",
   "language": "python",
   "name": "python3"
  },
  "language_info": {
   "codemirror_mode": {
    "name": "ipython",
    "version": 3
   },
   "file_extension": ".py",
   "mimetype": "text/x-python",
   "name": "python",
   "nbconvert_exporter": "python",
   "pygments_lexer": "ipython3",
   "version": "3.13.1"
  }
 },
 "nbformat": 4,
 "nbformat_minor": 2
}
