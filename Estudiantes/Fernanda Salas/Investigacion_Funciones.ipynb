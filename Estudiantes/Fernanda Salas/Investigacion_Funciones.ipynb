{
 "cells": [
  {
   "cell_type": "markdown",
   "metadata": {},
   "source": [
    "# Exploración Teórica y Aplicación Práctica de las Funciones en Python\n",
    "#### Autor: Fernanda Salas Jara\n",
    "\n",
    "\n",
    "## 1) Introducción\n",
    "El presente Notebook tiene por objetivo explorar la influencia de las funciones en el lenguaje Python para la modularizacion y eficiencia del desarrollo software.\n",
    "\n",
    "## 1.1) ¿Por qué es importante el uso de las funciones en Python?\n",
    "Se puede asumir que las funciones en Python facilitan dos grandes cosas: \n",
    "1. Dividir y organizar el código en partes más sencillas.\n",
    "2. Encapsular el código que se repite a lo largo de un programa para ser reutilizado.(1)\n",
    "\n",
    "\n",
    "## 2) Definición y Propósito de las Funciones en Python\n",
    "\n",
    "Las funciones en Python tienen la función de realizar una tarea específica y pueden ser invocadas en cualquier sección que se requiera. Su estructura contiene la siguiente forma, en orden descendente: (1)\n",
    "\n",
    "* def: Palabra clave reservada, inicia la definición de la función.(1)\n",
    "* nombre: Será el identificador para llamar o invocar a la función, importante colocarle paréntesis.(1)\n",
    "* (parámetros): Importante colocarlo con paréntesis, puede contener más de un elemento separado por una coma \",\" esto depende de la naturaleza de la función, recordar colocar dos puntos al final.(1)\n",
    "* Cuerpo de la función: Contiene sangría de alrededor de 4 espacios, seguido de un bloque de instrucciones que encapsulan la función.(1)\n",
    "* return (opcional): se añade para devolver un valor.(1)\n",
    "\n",
    "### A continuación se demuestra con un ejemplo:"
   ]
  },
  {
   "cell_type": "code",
   "execution_count": null,
   "metadata": {},
   "outputs": [
    {
     "name": "stdout",
     "output_type": "stream",
     "text": [
      "Comienzo del programa\n",
      "7 * 5 = 35\n",
      "Siguiente\n",
      "113 * 5 = 565\n",
      "Fin\n"
     ]
    }
   ],
   "source": [
    "# Ejemplo: (1)\n",
    "\n",
    "def multiplica_por_5(numero):\n",
    "    print(numero, \"* 5 =\", (numero * 5))\n",
    "\n",
    "print('Comienzo del programa')    \n",
    "multiplica_por_5(7)\n",
    "print('Siguiente')\n",
    "multiplica_por_5(113)\n",
    "print('Fin')"
   ]
  },
  {
   "cell_type": "markdown",
   "metadata": {},
   "source": [
    "### 2.1) Beneficios de modularizar código con funciones\n",
    "\n",
    "### Se pueden mencionar tres ventajas de la modularidad en Python (2):\n",
    "\n",
    "* Organizar el código: Cuando los programas son proyectos más grandes, se recurre a crear módulos, la modularización permite dividir el código en diferentes módulos, beneficiando la organización y facilitando la lectura del código para los desarolladores.\n",
    "* Ahorrar tiempo: Al modularizar, lo que hacemos es contener un conjunto de funciones relacionadas o una parte específica con la capacidad de poder acceder a ellas cuantas veces sea necesario en el mismo proyecto e incluso en otros, se hace una reutilización del código a conveniencia.\n",
    "* Colaboración en equipo: Usualmente los proyectos se trabajan con un equipo y modularizar permite que cada miembro pueda trabajar en sus módulos sin afectar los demás, de esta manera los objetivos no se ven frustrados por contratiempos en el uso del código.\n",
    "\n",
    "### 2.3) Importancia de la reutilización del código\n",
    "\n",
    "La modularidad es esencial en el desarrollo de proyectos en Python, ya que como se mencióno, se puede ver el código por secciones y esto facilita no solo la reutlización de código sino que se puede abarcar algún error desde su módulo o fuente y este automáticamente se corregirá en las partes donde ha sido invocado. El principio de \"encapsulamiento\" se refiere a cuando los módulos invocados omiten o no presentan ante el desarrollador todos los pasos necesarios para funcionar y simplemente se muestra lo que se necesita obtener de ellos para continuar con el código.(3)\n",
    "\n",
    "Para crear un sistema con muchas tareas, se debe de empezar por las partes pequeñas abarcando las tareas más sencillas y replicándolas las veces que sea necesario para crear otras más comlejas y así sucesivamente; para esto sirve la modularización.\n",
    "\n",
    "A continuación se ejemplifica un caso hipotético:"
   ]
  },
  {
   "cell_type": "code",
   "execution_count": null,
   "metadata": {},
   "outputs": [],
   "source": [
    "# Ejemplo (3):\n",
    "# Asumiendo que se creó un archivo llamado saludo.py, que contiene:\n",
    "def saludoEntidad (x):\n",
    "\tprint(\"Hola \" + x)\n",
    "\n",
    "# se crea un programa llamado usar-saludo.py \n",
    "# usaremos import para acceder al contenido del módulo de interés (saludo.py)\n",
    "import saludo\n",
    "saludo.saludoEntidad(\"todos\")  #se invoca a saludo.py, se le indica que busque la función saludo.Entidad\n",
    "saludo.saludoEntidad(\"programming historian\")"
   ]
  },
  {
   "cell_type": "markdown",
   "metadata": {},
   "source": [
    "## 2.4) Tipos de Funciones en Python:\n",
    "\n",
    "## 2.4.1) Funciones con y sin retorno:\n",
    "\n",
    "El retorno o return en Python fija el final de la función y da la instrucción del valor o los valores que debe devolver la función y los tipos de datos que se devuelven pueden ser int, float, string, listas, diccionarios y otras funciones. Cuando no se utiliza el return del todo o si se utiliza pero sin valor, Python devolverá la función con None de manera implícita. (4)\n",
    "\n",
    "* Con retorno: Devuelven un valor utilizando la palabra clave return."
   ]
  },
  {
   "cell_type": "code",
   "execution_count": null,
   "metadata": {},
   "outputs": [],
   "source": [
    "#Ejemplo(4):\n",
    "def calculate_area(length, width):\n",
    "\tarea = length * width\n",
    "\treturn area\n",
    "\n",
    "area = calculate_area(50, 50) # get the result of the function\n",
    "print(f\"Calculated area: {area}\") # use the result of the function"
   ]
  },
  {
   "cell_type": "markdown",
   "metadata": {},
   "source": [
    "* Sin retorno: No devuelven un valor explícito; por defecto, retornan None."
   ]
  },
  {
   "cell_type": "code",
   "execution_count": null,
   "metadata": {},
   "outputs": [],
   "source": [
    "#Ejemplo(4):\n",
    "def log_message(message):\n",
    "    print(message)\n",
    "    # No return statement needed; function returns None by default"
   ]
  },
  {
   "cell_type": "markdown",
   "metadata": {},
   "source": [
    "## 2.4.2.) Funciones con parámetros y valores predeterminados:\n",
    "\n",
    "Una parte de la estructura de las funciones son los parámetros, estos pueden tener valores predeterminados, es decir, en caso de no ingresar un dato para el argumento, la función rellenará el espacio con un valor predeterminado, lo que permite llamarlas sin especificar todos los argumentos.\n",
    "A este tipo de funciones se les conoce como parámetros por defecto. (5)"
   ]
  },
  {
   "cell_type": "code",
   "execution_count": 1,
   "metadata": {},
   "outputs": [
    {
     "name": "stdout",
     "output_type": "stream",
     "text": [
      "Hola, Carlos!\n",
      "Buenos días, Carlos!\n"
     ]
    }
   ],
   "source": [
    "def saludar(nombre, mensaje = \"Hola\"):\n",
    "    print(f\"{mensaje}, {nombre}!\")\n",
    "\n",
    "saludar(\"Carlos\")\n",
    "saludar(\"Carlos\", \"Buenos días\")"
   ]
  },
  {
   "cell_type": "markdown",
   "metadata": {},
   "source": [
    "## 2.4.3.)Uso de *args y **kwargs:"
   ]
  },
  {
   "cell_type": "markdown",
   "metadata": {},
   "source": [
    "## *args:\n",
    "\n",
    "Su función resuelve la problemática de tener argumentos en cantidades variables, por lo que se puede adaptar a la función para que acepte la cantidad de argumentos con los que sea invocada. \n",
    "\n",
    "Se debe de usar un \"*\" junto al nombre del argumento, usualmente como nombre se coloca \"args\" pero no es obligatorio. En realidad lo que se crea es una tupla que se puede iterar. (6)"
   ]
  },
  {
   "cell_type": "code",
   "execution_count": null,
   "metadata": {},
   "outputs": [
    {
     "name": "stdout",
     "output_type": "stream",
     "text": [
      "la suma de 3 números: 13\n",
      "la suma de 2 números: 3\n"
     ]
    }
   ],
   "source": [
    "#Ejemplo(6):\n",
    "def suma(*args):\n",
    "    return sum(args)\n",
    "\n",
    "print(f'la suma de 3 números: {suma(5, 5, 3)}')\n",
    "print(f'la suma de 2 números: {suma(1, 2)}')\n"
   ]
  },
  {
   "cell_type": "markdown",
   "metadata": {},
   "source": [
    "## **kwargs:\n",
    "\n",
    "En lugar de tuplas, estos crean diccionarios. Esto quiere decir que dan la oportunidad de colocar un nombre por cada valor de entrada. (6)"
   ]
  },
  {
   "cell_type": "code",
   "execution_count": null,
   "metadata": {},
   "outputs": [],
   "source": [
    "#Ejemplo(6):\n",
    "def suma(**kwargs):\n",
    "    s = 0\n",
    "    for key, value in kwargs.items():\n",
    "        print(key, \"=\", value)\n",
    "        s += value\n",
    "    return s\n",
    "    \n",
    "suma(a=3, b=10, c=3)"
   ]
  },
  {
   "cell_type": "markdown",
   "metadata": {},
   "source": [
    "## 2.4.4.)Funciones anónimas (lambda):\n",
    "\n",
    "Son funciones usadas para los casos en donde se requiere crear una función sin nombrarla formalmente, no deben ser usadas para funciones con instrucciones de flujo de control pero son una buena opción para hacer pruebas. (7)"
   ]
  },
  {
   "cell_type": "code",
   "execution_count": null,
   "metadata": {},
   "outputs": [],
   "source": [
    "#ejemplo (7):\n",
    "square = lambda x: x ** 2\n",
    "print(square(3))"
   ]
  },
  {
   "cell_type": "markdown",
   "metadata": {},
   "source": [
    "## 2.4.5.) Funciones recursivas:\n",
    "\n",
    "Son funciones que se llaman repetidamente a sí mismas para resolver problemas que pueden dividirse en subproblemas más pequeños y que se pueden ir resolviendo llamando a la misma función hasta obtener una salida.\n",
    "\n",
    "Debe cumplir dos condiciones:\n",
    "* La sección en la que la función se llama a sí misma.\n",
    "* Tener la condición donde la función retorna sin volver a llamarse. de lo contrario se llamará a sí misma de manera indefinida. (8)"
   ]
  },
  {
   "cell_type": "code",
   "execution_count": null,
   "metadata": {},
   "outputs": [],
   "source": [
    "# Ejemplo (8)\n",
    "def fibonacci_recursivo(n):\n",
    "    if n == 0:\n",
    "        return 0\n",
    "    elif n == 1:\n",
    "        return 1\n",
    "    else:\n",
    "        return fibonacci_recursivo(n-1) + fibonacci_recursivo(n-2)\n"
   ]
  },
  {
   "cell_type": "markdown",
   "metadata": {},
   "source": [
    "## 2.4.6.) Generadores (yield):\n",
    "\n",
    "\n",
    "Los generadores son iteradores que sólo permiten ser usados una vez, utilizando la palabra clave yield en lugar de return. Permiten iterar sobre una secuencia de valores sin almacenarlos todos en memoria al mismo tiempo y se pueden iterar con un bucle for o con una función. (9)"
   ]
  },
  {
   "cell_type": "code",
   "execution_count": null,
   "metadata": {},
   "outputs": [],
   "source": [
    "#Ejemplo(9):\n",
    "def funcion_generadora():\n",
    "    for i in range(10):\n",
    "        yield i\n",
    "\n",
    "for item in funcion_generadora():\n",
    "    print(item)"
   ]
  },
  {
   "cell_type": "markdown",
   "metadata": {},
   "source": [
    "## 2.4.7.) Closures y decoradores\n",
    "\n",
    "## Closures:\n",
    "\n",
    "Son funciones que pueden seguir accediendo a las variables definidas dentro de funciones que las anidan, incluso después de que el ámbito externo haya finalizado. La función nueva guardará una memoria ya que sigue recordando las variables locales y no locales definidas. (10)"
   ]
  },
  {
   "cell_type": "code",
   "execution_count": null,
   "metadata": {},
   "outputs": [],
   "source": [
    "# Ejemplo (10):\n",
    "def saludar_usuario(username):\n",
    "    mensaje = 'Hola ' + username\n",
    "\n",
    "    def saludar():\n",
    "        print(mensaje)\n",
    "\n",
    "    return saludar"
   ]
  },
  {
   "cell_type": "markdown",
   "metadata": {},
   "source": [
    "## Decoradores:\n",
    "\n",
    "Los decoradores son funciones que decoran a otras funciones y modifican su funcionalidad, ayudan a hacer el código más breve, se relaciona a los Closures porque pueden ejecutar código antes y después de la función que está siendo decorada. A través del uso de decoradores se puede verificar si alguien está o no autorizado para usar una determinada función, como una aplicación web o para iniciar sesión.(11)"
   ]
  },
  {
   "cell_type": "code",
   "execution_count": null,
   "metadata": {},
   "outputs": [],
   "source": [
    "# Ejemplo (11)\n",
    "\n",
    "from functools import wraps\n",
    "\n",
    "def requires_auth(f):\n",
    "    @wraps(f)\n",
    "    def decorated(*args, **kwargs):\n",
    "        auth = request.authorization\n",
    "        if not auth or not check_auth(auth.username, auth.password):\n",
    "            authenticate()\n",
    "        return f(*args, **kwargs)\n",
    "    return decorated\n"
   ]
  },
  {
   "cell_type": "markdown",
   "metadata": {},
   "source": [
    "# 2.3 Aplicación de Funciones en Problemas Reales\n",
    "\n",
    "### Aplicación en estructuras de datos (listas, diccionarios):\n",
    "\n",
    "Caso de uso de gestión de contactos: mantener una lista de contactos. (12) "
   ]
  },
  {
   "cell_type": "code",
   "execution_count": null,
   "metadata": {},
   "outputs": [],
   "source": [
    "contactos = {\n",
    "    \"John Smith\": {\"teléfono\": \"123-456-7890\", \"correo electrónico\": \"john@example.com\"},\n",
    "    \"Jane Doe\": {\"teléfono\": \"987-654-3210\", \"correo electrónico\": \"jane@example.com\"}\n",
    "}"
   ]
  },
  {
   "cell_type": "markdown",
   "metadata": {},
   "source": [
    "### Uso de funciones en procesamiento de datos.\n",
    "\n",
    "Recuerde que las funciones son herramientas esenciales en el análisis de datos. Le ayudan a dividir problemas complejos en partes manejables, hacen que su código sea más legible y le permiten reutilizar su trabajo de manera eficiente. En otras palabras, las funciones hacen que su código sea modular . A medida que continúe trabajando con datos, es probable que se encuentre creando cada vez más funciones para manejar tareas específicas en su flujo de trabajo de análisis. (13) (14)"
   ]
  },
  {
   "cell_type": "code",
   "execution_count": null,
   "metadata": {},
   "outputs": [],
   "source": []
  },
  {
   "cell_type": "markdown",
   "metadata": {},
   "source": [
    "### Optimización del rendimiento con funciones.\n",
    "\n",
    "Los siguientes nueve consejos apuntan específicamente al rendimiento de Python , aunque varios podrían aplicarse también a otros lenguajes: (15)\n",
    "1.\tSeleccione los tipos de datos correctos.\n",
    "2.\tConozca funciones, métodos y bibliotecas estándar.\n",
    "3.\tEncuentre bibliotecas centradas en el rendimiento.\n",
    "4.\tComprender las diferentes comprensiones.\n",
    "5.\tUtilice funciones generadoras, patrones y expresiones.\n",
    "6.\tConsidere cómo procesar datos de gran tamaño.\n",
    "7.\tEjecute perfiles para identificar código problemático.\n",
    "8.\tConsidere alternativas a CPython.\n",
    "9.\tCentrarse en mejoras significativas.\n"
   ]
  },
  {
   "cell_type": "code",
   "execution_count": null,
   "metadata": {},
   "outputs": [],
   "source": []
  },
  {
   "cell_type": "markdown",
   "metadata": {},
   "source": [
    "### Comparación entre funciones definidas por el usuario y funciones integradas (len(), sum(), etc.).\n",
    "\n",
    "\n",
    "En Python, las funciones son bloques de código que realizan tareas específicas y pueden ser reutilizadas en diferentes partes de un programa. Existen dos tipos principales de funciones: las funciones integradas y las funciones definidas por el usuario.\n",
    "\n",
    "Funciones Integradas: Son funciones que Python proporciona de forma predeterminada y están disponibles para su uso inmediato sin necesidad de importaciones adicionales. Estas funciones abarcan una amplia gama de operaciones comunes, como:\n",
    "\n",
    "print(): Muestra información en la consola.\n",
    "len(): Devuelve la longitud de un objeto.\n",
    "type(): Indica el tipo de una variable u objeto.\n",
    "abs(): Retorna el valor absoluto de un número.\n",
    "Estas funciones facilitan el desarrollo al proporcionar herramientas listas para tareas comunes. \n",
    "\n",
    "Funciones Definidas por el Usuario: Son funciones creadas por los programadores para realizar tareas específicas según las necesidades del programa. Se definen utilizando la palabra clave def, seguida del nombre de la función y paréntesis que pueden contener parámetros.\n",
    "\n",
    "Comparación:\n",
    "\n",
    "Disponibilidad: Las funciones integradas están siempre disponibles, mientras que las definidas por el usuario deben ser creadas según las necesidades específicas del programa.\n",
    "\n",
    "Flexibilidad: Las funciones definidas por el usuario ofrecen mayor flexibilidad, ya que pueden ser diseñadas para realizar tareas específicas que las funciones integradas no cubren.\n",
    "\n",
    "Reutilización: Ambos tipos de funciones promueven la reutilización del código, pero las funciones definidas por el usuario permiten reutilizar lógica personalizada en diferentes partes del programa.\n",
    "\n",
    "En resumen, mientras que las funciones integradas proporcionan herramientas esenciales para operaciones comunes, las funciones definidas por el usuario permiten a los programadores crear soluciones adaptadas a las necesidades específicas de sus aplicaciones. (17)"
   ]
  },
  {
   "cell_type": "code",
   "execution_count": null,
   "metadata": {},
   "outputs": [],
   "source": []
  },
  {
   "cell_type": "markdown",
   "metadata": {},
   "source": [
    "# 3) Conclusiones\n",
    "\n",
    "\n",
    "\n",
    "La sintaxis y el orden en el uso de las funciones en Python son esenciales para garantizar que el código sea claro, funcional y libre de errores. Una sintaxis correcta permite que el intérprete de Python comprenda las instrucciones y las ejecute sin problemas, mientras que un orden adecuado en la definición y llamada de funciones asegura que el programa fluya de manera lógica y estructurada. Seguir buenas prácticas en la organización del código, como definir funciones antes de usarlas, utilizar nombres descriptivos y manejar correctamente los parámetros y valores de retorno, contribuye a un desarrollo más eficiente, legible y mantenible.\n",
    "\n",
    "Las funciones en Python son fundamentales para escribir código eficiente, modular y reutilizable. Las funciones integradas ofrecen herramientas listas para tareas comunes, simplificando el desarrollo sin necesidad de escribir código adicional. Por otro lado, las funciones definidas por el usuario permiten personalizar y adaptar la lógica del programa a necesidades específicas, mejorando la claridad y el mantenimiento del código. Utilizar funciones adecuadamente no solo optimiza el tiempo de desarrollo, sino que también facilita la depuración y escalabilidad de los proyectos.\n",
    "\n"
   ]
  },
  {
   "cell_type": "markdown",
   "metadata": {},
   "source": [
    "## Bibliografía\n",
    "\n",
    "(1) https://aulavirtual.espol.edu.ec/courses/4558/pages/funciones-en-python#:~:text=Python%20ya%20define%20de%20serie,de%20l%C3%ADneas%20de%20un%20programa.&text=En%20principio%2C%20un%20programa%20es,definir%20una%20funci%C3%B3n%20en%20Python.\n",
    "(2) https://keepcoding.io/blog/modularidad-en-python/#Ventajas_de_la_modularidad_en_Python\n",
    "(3) https://programminghistorian.org/es/lecciones/reutilizacion-de-codigo-y-modularidad\n",
    "(4) https://mimo-org.translate.goog/glossary/python/return?_x_tr_sl=en&_x_tr_tl=es&_x_tr_hl=es&_x_tr_pto=sge&_x_tr_hist=true\n",
    "(5) https://www.freecodecamp.org/espanol/news/ejemplos-de-funciones-de-python-como-declarar-y-llamar-con-parametros/\n",
    "(6) https://ellibrodepython.com/args-kwargs-python\n",
    "(7)https://www.freecodecamp.org/espanol/news/expresiones-lambda-en-python/\n",
    "(8)https://ellibrodepython.com/recursividad\n",
    "(9) https://python-intermedio.readthedocs.io/es/latest/generators.html\n",
    "(10) https://codigofacilito.com/articulos/closures-python\n",
    "(11) https://python-intermedio.readthedocs.io/es/latest/decorators.html\n",
    "(12) https://medium.com/@cssjhnnamae/use-cases-of-python-dictionaries-data-structure-089713321275\n",
    "(13) https://www.dataquest.io/tutorial/python-functions-and-jupyter-notebook/\n",
    "(14) https://curso-python-imn.github.io/12-python-funciones.html\n",
    "(15) https://www-theserverside-com.translate.goog/tip/Tips-to-improve-Python-performance?_x_tr_sl=en&_x_tr_tl=es&_x_tr_hl=es&_x_tr_pto=sge#:~:text=NET.-,Centrarse%20en%20mejoras%20significativas,lru_cache%20\n",
    "(16) https://thedataschools.com/python/funciones/funciones-integradas.html?utm_source=chatgpt.com\n",
    "(17) https://thedataschools.com/python/funciones/funciones-integradas.html?utm_source=chatgpt.com\n",
    "\n",
    "\n",
    "\n"
   ]
  }
 ],
 "metadata": {
  "kernelspec": {
   "display_name": "Python 3",
   "language": "python",
   "name": "python3"
  },
  "language_info": {
   "codemirror_mode": {
    "name": "ipython",
    "version": 3
   },
   "file_extension": ".py",
   "mimetype": "text/x-python",
   "name": "python",
   "nbconvert_exporter": "python",
   "pygments_lexer": "ipython3",
   "version": "3.13.1"
  }
 },
 "nbformat": 4,
 "nbformat_minor": 2
}
