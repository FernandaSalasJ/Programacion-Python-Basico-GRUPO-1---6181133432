{
 "cells": [
  {
   "cell_type": "code",
   "execution_count": 8,
   "metadata": {},
   "outputs": [
    {
     "name": "stdout",
     "output_type": "stream",
     "text": [
      "El área de un triangulo de altura: 7 y base: 7 es= 1/2*b*h = 24.5\n"
     ]
    }
   ],
   "source": [
    "h = 7\n",
    "b = 7\n",
    "print(f'El área de un triangulo de altura: {h} y base: {b} es= 1/2*b*h = {(1/2) * b * h}')   \n"
   ]
  },
  {
   "cell_type": "code",
   "execution_count": 27,
   "metadata": {},
   "outputs": [
    {
     "name": "stdout",
     "output_type": "stream",
     "text": [
      "La cuenta del cliente contiene = 992.77 dólares estadounidenses\n"
     ]
    }
   ],
   "source": [
    "CRC = 503.64\n",
    "USD = 1\n",
    "CLIENTE = 500000\n",
    "\n",
    "#usando el redondeo con uso de formato, para que el detalle final quede más corto\n",
    "\n",
    "print(f'La cuenta del cliente contiene = {((CLIENTE * USD)/CRC):.2f} dólares estadounidenses') "
   ]
  },
  {
   "cell_type": "code",
   "execution_count": 35,
   "metadata": {},
   "outputs": [
    {
     "name": "stdout",
     "output_type": "stream",
     "text": [
      "la formula para pasar de grados Celsius a grados Farenheit es:    °F = (°C * 9/5) + 32\n",
      "La temperatura 40 °C corresponde a  104.00 °F\n"
     ]
    }
   ],
   "source": [
    "Farenheit = 32\n",
    "Celsius = 40\n",
    "\n",
    "print('la formula para pasar de grados Celsius a grados Farenheit es:    °F = (°C * 9/5) + 32')\n",
    "print(f'La temperatura {Celsius} °C corresponde a {(Celsius * (9/5)) + 32: .2F} °F')"
   ]
  }
 ],
 "metadata": {
  "kernelspec": {
   "display_name": "Python 3",
   "language": "python",
   "name": "python3"
  },
  "language_info": {
   "codemirror_mode": {
    "name": "ipython",
    "version": 3
   },
   "file_extension": ".py",
   "mimetype": "text/x-python",
   "name": "python",
   "nbconvert_exporter": "python",
   "pygments_lexer": "ipython3",
   "version": "3.13.1"
  }
 },
 "nbformat": 4,
 "nbformat_minor": 2
}
