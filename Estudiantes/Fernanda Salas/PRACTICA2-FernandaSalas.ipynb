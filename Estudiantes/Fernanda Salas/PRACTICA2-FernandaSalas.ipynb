{
 "cells": [
  {
   "cell_type": "markdown",
   "metadata": {},
   "source": [
    "1. Crea una lista llamada numeros que contenga los números del 1 al 10."
   ]
  },
  {
   "cell_type": "code",
   "execution_count": 16,
   "metadata": {},
   "outputs": [
    {
     "name": "stdout",
     "output_type": "stream",
     "text": [
      "1 2 3 4 5 6 7 8 9 10\n"
     ]
    }
   ],
   "source": [
    "Lista1= [1, 2, 3, 4, 5, 6, 7, 8, 9, 10]\n",
    "print(*Lista1)"
   ]
  },
  {
   "cell_type": "markdown",
   "metadata": {},
   "source": [
    "2. Agrega los números del 11 al 15 a la lista utilizando el método extend()."
   ]
  },
  {
   "cell_type": "code",
   "execution_count": 17,
   "metadata": {},
   "outputs": [
    {
     "name": "stdout",
     "output_type": "stream",
     "text": [
      "[1, 2, 3, 4, 5, 6, 7, 8, 9, 10, 11, 12, 13, 14, 15]\n"
     ]
    }
   ],
   "source": [
    "Numero11 = 11\n",
    "Numero12 = 12\n",
    "Numero13 = 13\n",
    "Numero14 = 14\n",
    "Numero15 = 15\n",
    "\n",
    "numeros_nuevos = [Numero11, Numero12, Numero13, Numero14, Numero15]\n",
    "Lista1.extend(numeros_nuevos)\n",
    "print(Lista1)"
   ]
  },
  {
   "cell_type": "markdown",
   "metadata": {},
   "source": [
    "3. Utiliza el método append() para agregar el número 16 al final de la lista."
   ]
  },
  {
   "cell_type": "code",
   "execution_count": 18,
   "metadata": {},
   "outputs": [
    {
     "name": "stdout",
     "output_type": "stream",
     "text": [
      "[1, 2, 3, 4, 5, 6, 7, 8, 9, 10, 11, 12, 13, 14, 15, 16]\n"
     ]
    }
   ],
   "source": [
    "Numero16 = 16\n",
    "\n",
    "Lista1.append(Numero16)\n",
    "print(Lista1)"
   ]
  },
  {
   "cell_type": "markdown",
   "metadata": {},
   "source": [
    "4. Utiliza el método insert() para agregar el número 0 al principio de la lista.\n",
    "a. Imprime la lista en la pantalla de nuevo para verificar que contiene el\n",
    "número 0 al principio y el número 16 al final.\n"
   ]
  },
  {
   "cell_type": "code",
   "execution_count": 19,
   "metadata": {},
   "outputs": [
    {
     "name": "stdout",
     "output_type": "stream",
     "text": [
      "[0, 1, 2, 3, 4, 5, 6, 7, 8, 9, 10, 11, 12, 13, 14, 15, 16]\n",
      "0\n",
      "16\n"
     ]
    }
   ],
   "source": [
    "Lista1.insert(0, 0)\n",
    "print(Lista1)\n",
    "print(Lista1[0])\n",
    "print(Lista1[-1])"
   ]
  },
  {
   "cell_type": "markdown",
   "metadata": {},
   "source": [
    "5. Utiliza el método remove() para eliminar el número 5 de la lista."
   ]
  },
  {
   "cell_type": "code",
   "execution_count": 20,
   "metadata": {},
   "outputs": [
    {
     "name": "stdout",
     "output_type": "stream",
     "text": [
      "[0, 1, 2, 3, 4, 6, 7, 8, 9, 10, 11, 12, 13, 14, 15, 16]\n"
     ]
    }
   ],
   "source": [
    "Lista1.remove(5)\n",
    "print(Lista1)"
   ]
  },
  {
   "cell_type": "markdown",
   "metadata": {},
   "source": [
    "6. Utiliza el método pop() para eliminar el último número de la lista y\n",
    "almacenarlo en una variable llamada ultimo_numero."
   ]
  },
  {
   "cell_type": "code",
   "execution_count": 21,
   "metadata": {},
   "outputs": [
    {
     "name": "stdout",
     "output_type": "stream",
     "text": [
      "[0, 1, 2, 3, 4, 6, 7, 8, 9, 10, 11, 12, 13, 14, 15]\n",
      "16\n"
     ]
    }
   ],
   "source": [
    "ultimo_numero = Lista1.pop()\n",
    "\n",
    "print(Lista1)\n",
    "print(ultimo_numero)"
   ]
  }
 ],
 "metadata": {
  "kernelspec": {
   "display_name": "Python 3",
   "language": "python",
   "name": "python3"
  },
  "language_info": {
   "codemirror_mode": {
    "name": "ipython",
    "version": 3
   },
   "file_extension": ".py",
   "mimetype": "text/x-python",
   "name": "python",
   "nbconvert_exporter": "python",
   "pygments_lexer": "ipython3",
   "version": "3.13.1"
  }
 },
 "nbformat": 4,
 "nbformat_minor": 2
}
